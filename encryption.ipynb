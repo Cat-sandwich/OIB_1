{
 "cells": [
  {
   "attachments": {},
   "cell_type": "markdown",
   "metadata": {},
   "source": [
    "# Задание 1\n"
   ]
  },
  {
   "attachments": {},
   "cell_type": "markdown",
   "metadata": {},
   "source": [
    "### Функция чтения исходного текста(любой текст, более 500 символов)"
   ]
  },
  {
   "cell_type": "code",
   "execution_count": 19,
   "metadata": {},
   "outputs": [],
   "source": [
    "def read_file(file_name: str) -> str:\n",
    "    \"\"\"функция чтения исходного текста из файла\"\"\"   \n",
    "    text = \"\"     \n",
    "    with open(file_name, encoding='utf-8') as file:\n",
    "         for item in file:\n",
    "             text += item\n",
    "    return text"
   ]
  },
  {
   "attachments": {},
   "cell_type": "markdown",
   "metadata": {},
   "source": [
    "### Вспомогательная функция для создания алфавита (буква ё включена)"
   ]
  },
  {
   "cell_type": "code",
   "execution_count": 20,
   "metadata": {},
   "outputs": [],
   "source": [
    "def prepare_alph() -> str:\n",
    "    \"\"\"создание алфавита\"\"\"\n",
    "    lat=\"\"\n",
    "    for i in range(ord(\"а\"),ord(\"е\")+1):\n",
    "        lat=lat + chr(i)\n",
    "        \n",
    "    lat = lat + chr(ord(\"ё\"))\n",
    "    for i in range(ord(\"ж\"),ord(\"я\")+1):\n",
    "        lat=lat + chr(i)\n",
    "    return lat"
   ]
  },
  {
   "attachments": {},
   "cell_type": "markdown",
   "metadata": {},
   "source": [
    "### Шифровка  текста шифром Цезаря (с учетом регистра)"
   ]
  },
  {
   "cell_type": "code",
   "execution_count": 21,
   "metadata": {},
   "outputs": [],
   "source": [
    "def encryption(text: str, key: int, alph: str) -> str:\n",
    "    \"\"\"функция зашифровки текста\"\"\"\n",
    "    new_str = \"\"\n",
    "    for i in text:\n",
    "        index = alph.find(i.lower())\n",
    "        if index != -1:                  \n",
    "            if index + key < len(alph):\n",
    "                if i.istitle():\n",
    "                    new_str += alph[index+key].upper()\n",
    "                else:\n",
    "                    new_str += alph[index+key]\n",
    "            else:\n",
    "                index = key-(len(alph)-index) \n",
    "                if i.istitle():\n",
    "                    new_str += alph[index].upper()\n",
    "                else:\n",
    "                    new_str += alph[index]  \n",
    "                \n",
    "        else:\n",
    "            new_str += i\n",
    "    return new_str  \n"
   ]
  },
  {
   "attachments": {},
   "cell_type": "markdown",
   "metadata": {},
   "source": [
    "### Вызов всех функций + запись зашифрованного текста в файл"
   ]
  },
  {
   "cell_type": "code",
   "execution_count": 22,
   "metadata": {},
   "outputs": [],
   "source": [
    "example_text = encryption(read_file(\"text_1.txt\"), int(read_file(\"key_1.txt\")), prepare_alph())\n",
    "file = open(\"example_text_1.txt\", \"w+\",encoding='utf-8' )\n",
    "file.write(example_text)\n",
    "file.close()\n",
    "    \n"
   ]
  }
 ],
 "metadata": {
  "kernelspec": {
   "display_name": "Python 3",
   "language": "python",
   "name": "python3"
  },
  "language_info": {
   "codemirror_mode": {
    "name": "ipython",
    "version": 3
   },
   "file_extension": ".py",
   "mimetype": "text/x-python",
   "name": "python",
   "nbconvert_exporter": "python",
   "pygments_lexer": "ipython3",
   "version": "3.9.13"
  },
  "orig_nbformat": 4
 },
 "nbformat": 4,
 "nbformat_minor": 2
}
