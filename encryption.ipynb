{
 "cells": [
  {
   "cell_type": "code",
   "execution_count": 32,
   "metadata": {},
   "outputs": [],
   "source": [
    "def read_file(file_name: str) -> str:   \n",
    "    text = \"\"     \n",
    "    with open(file_name) as file:\n",
    "         for item in file:\n",
    "             text += item\n",
    "    return text"
   ]
  },
  {
   "cell_type": "code",
   "execution_count": 22,
   "metadata": {},
   "outputs": [],
   "source": [
    "def prepare_alph() -> str:\n",
    "    lat=\"\"\n",
    "    for i in range(ord(\"а\"),ord(\"е\")+1):\n",
    "        lat=lat + chr(i)\n",
    "        \n",
    "    lat = lat + chr(ord(\"ё\"))\n",
    "    for i in range(ord(\"ж\"),ord(\"я\")+1):\n",
    "        lat=lat + chr(i)\n",
    "    return lat"
   ]
  },
  {
   "cell_type": "code",
   "execution_count": 38,
   "metadata": {},
   "outputs": [],
   "source": [
    "def encryption(text: str, key: int, alph: str) -> str:\n",
    "    new_str = \"\"\n",
    "    for i in text:\n",
    "        index = alph.find(i.lower())\n",
    "        if index != -1:                  \n",
    "            if index + key < len(alph):\n",
    "                if i.istitle():\n",
    "                    new_str += alph[index+key].upper()\n",
    "                else:\n",
    "                    new_str += alph[index+key]\n",
    "            else:\n",
    "                index = key-(len(alph)-index) \n",
    "                if i.istitle():\n",
    "                    new_str += alph[index].upper()\n",
    "                else:\n",
    "                    new_str += alph[index]  \n",
    "                \n",
    "        else:\n",
    "            new_str += i\n",
    "    return new_str\n",
    "\n",
    "\n",
    "\n",
    "    \n"
   ]
  },
  {
   "cell_type": "code",
   "execution_count": 39,
   "metadata": {},
   "outputs": [
    {
     "data": {
      "text/plain": [
       "'Ылчусп ргкюегзхфв тгуг гоёсулхпсе, узголкцбьлш нгйжсз лк цнгкгррюш тузсдугксегрлм. Ахл гоёсулхпю тулпзрвбхфв н жгррюп ф лфтсояксегрлзп нобъг. Нобъл жов ылчусегрлв л жов угфылчусенл псёцх угколъгхяфв, г псёцх дюхя сжлргнсеюпл. Фзнузхрсфхя ехсусёс (угфылчусеюегбьзёс) лк рлш жзогзх жгррюз рзжсфхцтрюпл жов рзфгрнщлсрлусегррсёс скргнспозрлв, г фзнузхрсфхя тзуесёс (ылчуцбьзёс) жзогзх рзескпсйрюп ерзфзрлз осйрюш жгррюш. Е тзуеюш пзхсжгш ылчусегрлв лфтсояксеголфя сжлргнсеюз нобъл, сжргнс е 1976 ёсжц дюол угкугдсхгрю гоёсулхпю ф тулпзрзрлзп угкрюш нобъзм. Фсшугрзрлз ахлш нобъзм е фзнузхрсфхл л тугелоярсз лш угкжзозрлз пзйжц гжузфгхгпл веовзхфв съзря егйрсм кгжгъзм жов фсшугрзрлв нсрчлжзрщлгоярсфхл тзузжгегзпсм лрчсупгщлл. Ахг кгжгъг лффозжцзхфв е хзсулл цтугеозрлв нобъгпл (е рзнсхсуюш лфхсърлнгш срг цтсплргзхфв нгн угкжзозрлз фзнузхг).'"
      ]
     },
     "execution_count": 39,
     "metadata": {},
     "output_type": "execute_result"
    }
   ],
   "source": [
    "encryption(read_file(\"text.txt\"), 3, prepare_alph())"
   ]
  }
 ],
 "metadata": {
  "kernelspec": {
   "display_name": "Python 3",
   "language": "python",
   "name": "python3"
  },
  "language_info": {
   "codemirror_mode": {
    "name": "ipython",
    "version": 3
   },
   "file_extension": ".py",
   "mimetype": "text/x-python",
   "name": "python",
   "nbconvert_exporter": "python",
   "pygments_lexer": "ipython3",
   "version": "3.9.13"
  },
  "orig_nbformat": 4
 },
 "nbformat": 4,
 "nbformat_minor": 2
}
