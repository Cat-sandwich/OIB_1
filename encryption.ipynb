{
 "cells": [
  {
   "cell_type": "code",
   "execution_count": 18,
   "metadata": {},
   "outputs": [],
   "source": [
    "def read_file(file_name: str) -> str:\n",
    "    \"\"\"функция чтения исходного текста из файла\"\"\"   \n",
    "    text = \"\"     \n",
    "    with open(file_name) as file:\n",
    "         for item in file:\n",
    "             text += item\n",
    "    return text"
   ]
  },
  {
   "cell_type": "code",
   "execution_count": 19,
   "metadata": {},
   "outputs": [],
   "source": [
    "def prepare_alph() -> str:\n",
    "    \"\"\"создание алфавита\"\"\"\n",
    "    lat=\"\"\n",
    "    for i in range(ord(\"а\"),ord(\"е\")+1):\n",
    "        lat=lat + chr(i)\n",
    "        \n",
    "    lat = lat + chr(ord(\"ё\"))\n",
    "    for i in range(ord(\"ж\"),ord(\"я\")+1):\n",
    "        lat=lat + chr(i)\n",
    "    return lat"
   ]
  },
  {
   "cell_type": "code",
   "execution_count": 20,
   "metadata": {},
   "outputs": [],
   "source": [
    "def encryption(text: str, key: int, alph: str) -> str:\n",
    "    \"\"\"функция зашифровки текста\"\"\"\n",
    "    new_str = \"\"\n",
    "    for i in text:\n",
    "        index = alph.find(i.lower())\n",
    "        if index != -1:                  \n",
    "            if index + key < len(alph):\n",
    "                if i.istitle():\n",
    "                    new_str += alph[index+key].upper()\n",
    "                else:\n",
    "                    new_str += alph[index+key]\n",
    "            else:\n",
    "                index = key-(len(alph)-index) \n",
    "                if i.istitle():\n",
    "                    new_str += alph[index].upper()\n",
    "                else:\n",
    "                    new_str += alph[index]  \n",
    "                \n",
    "        else:\n",
    "            new_str += i\n",
    "    return new_str\n",
    "\n",
    "\n",
    "\n",
    "    \n"
   ]
  },
  {
   "cell_type": "code",
   "execution_count": 22,
   "metadata": {},
   "outputs": [],
   "source": [
    "example_text = encryption(read_file(\"text.txt\"), int(read_file(\"key.txt\")), prepare_alph())\n",
    "file = open(\"example_text.txt\", \"w+\")\n",
    "file.write(example_text)\n",
    "file.close()\n",
    "    \n"
   ]
  }
 ],
 "metadata": {
  "kernelspec": {
   "display_name": "Python 3",
   "language": "python",
   "name": "python3"
  },
  "language_info": {
   "codemirror_mode": {
    "name": "ipython",
    "version": 3
   },
   "file_extension": ".py",
   "mimetype": "text/x-python",
   "name": "python",
   "nbconvert_exporter": "python",
   "pygments_lexer": "ipython3",
   "version": "3.9.13"
  },
  "orig_nbformat": 4
 },
 "nbformat": 4,
 "nbformat_minor": 2
}
