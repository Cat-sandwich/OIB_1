{
 "cells": [
  {
   "attachments": {},
   "cell_type": "markdown",
   "metadata": {},
   "source": [
    "# Задание 2\n"
   ]
  },
  {
   "attachments": {},
   "cell_type": "markdown",
   "metadata": {},
   "source": [
    "### Функция чтения защифрованного текста по варианту "
   ]
  },
  {
   "cell_type": "code",
   "execution_count": 90,
   "metadata": {},
   "outputs": [],
   "source": [
    "def read_file(file_name: str) -> str:\n",
    "    \"\"\"функция чтения исходного текста из файла\"\"\"   \n",
    "    text = \"\"     \n",
    "    with open(file_name, encoding='utf-8') as file:\n",
    "          text = file.read()\n",
    "          \n",
    "    \n",
    "    return text"
   ]
  },
  {
   "attachments": {},
   "cell_type": "markdown",
   "metadata": {},
   "source": [
    "### Функция чтения частот "
   ]
  },
  {
   "cell_type": "code",
   "execution_count": 91,
   "metadata": {},
   "outputs": [],
   "source": [
    "def read_frequency_file(file_name: str) -> dict:\n",
    "    \"\"\"функция чтения частотного текста из файла\"\"\" \n",
    "    frequency_dict = {}\n",
    "    with open(file_name) as file:\n",
    "        for item in file:\n",
    "            tmp_str = item.split(\"=\")\n",
    "            key = tmp_str[0][0]\n",
    "            value = round(float(tmp_str[1][1:9]), 6)\n",
    "            frequency_dict.update({key:value})\n",
    "    return(frequency_dict)\n"
   ]
  },
  {
   "attachments": {},
   "cell_type": "markdown",
   "metadata": {},
   "source": [
    "### Вызов функции чтения частот и добавление в словарь\n"
   ]
  },
  {
   "cell_type": "code",
   "execution_count": 92,
   "metadata": {},
   "outputs": [],
   "source": [
    "frequency_dict = read_frequency_file(\"frequency.txt\" )"
   ]
  },
  {
   "attachments": {},
   "cell_type": "markdown",
   "metadata": {},
   "source": [
    "### Вызов функции чтения зашифрованного текста"
   ]
  },
  {
   "cell_type": "code",
   "execution_count": 93,
   "metadata": {},
   "outputs": [],
   "source": [
    "text = read_file('text_2.txt')     "
   ]
  },
  {
   "attachments": {},
   "cell_type": "markdown",
   "metadata": {},
   "source": [
    "### Функция для создания частотного словаря зашифрованного текста"
   ]
  },
  {
   "cell_type": "code",
   "execution_count": 94,
   "metadata": {},
   "outputs": [],
   "source": [
    "def frequency_new_text(text: str) -> dict:\n",
    "    \"\"\"функция создания частотного словаря\"\"\"\n",
    "    frequency_new_dict ={}\n",
    "    len_text = len(text)\n",
    "    for i in text:\n",
    "        count = 0.00000\n",
    "        if i not in frequency_new_dict.keys():\n",
    "            for j in range (len_text):                \n",
    "                if i == text[j]:\n",
    "                    count+=1\n",
    "            frequency_new_dict.update({i: round(float(count/len_text), 6)})\n",
    "\n",
    "\n",
    "    return frequency_new_dict        \n"
   ]
  },
  {
   "attachments": {},
   "cell_type": "markdown",
   "metadata": {},
   "source": [
    "### Вызов функции для создания частотного словаря"
   ]
  },
  {
   "cell_type": "code",
   "execution_count": 95,
   "metadata": {},
   "outputs": [],
   "source": [
    "frequency_new_dict = frequency_new_text(text)"
   ]
  },
  {
   "attachments": {},
   "cell_type": "markdown",
   "metadata": {},
   "source": [
    "### Вывод двух кортежей для удобства сравнивания частот"
   ]
  },
  {
   "cell_type": "code",
   "execution_count": 96,
   "metadata": {},
   "outputs": [
    {
     "name": "stdout",
     "output_type": "stream",
     "text": [
      "0   ('2', 0.120427) \t (' ', 0.128675)\n",
      "1   ('К', 0.092988) \t ('О', 0.096456)\n",
      "2   ('Ь', 0.091463) \t ('И', 0.075312)\n",
      "3   ('t', 0.070122) \t ('Е', 0.072292)\n",
      "4   ('Ы', 0.0625) \t ('А', 0.064841)\n",
      "5   ('r', 0.060976) \t ('Н', 0.06182)\n",
      "6   ('Д', 0.060976) \t ('Т', 0.061619)\n",
      "7   ('>', 0.054878) \t ('С', 0.051953)\n",
      "8   ('О', 0.053354) \t ('Р', 0.040677)\n",
      "9   (' ', 0.039634) \t ('В', 0.039267)\n",
      "10   ('<', 0.039634) \t ('М', 0.029803)\n",
      "11   ('Б', 0.027439) \t ('Л', 0.0294)\n",
      "12   ('Й', 0.025915) \t ('Д', 0.026983)\n",
      "13   ('Я', 0.02439) \t ('Я', 0.026379)\n",
      "14   ('1', 0.02439) \t ('К', 0.025977)\n",
      "15   ('Ч', 0.021341) \t ('П', 0.024768)\n",
      "16   ('М', 0.018293) \t ('З', 0.015908)\n",
      "17   ('0', 0.018293) \t ('Ы', 0.015707)\n",
      "18   ('Х', 0.010671) \t ('Ь', 0.015103)\n",
      "19   ('А', 0.010671) \t ('У', 0.01329)\n",
      "20   ('a', 0.010671) \t ('Ч', 0.011679)\n",
      "21   ('Л', 0.009146) \t ('Ж', 0.010673)\n",
      "22   ('8', 0.007622) \t ('Г', 0.009867)\n",
      "23   ('Е', 0.007622) \t ('Х', 0.008659)\n",
      "24   ('c', 0.007622) \t ('Ф', 0.007249)\n",
      "25   ('3', 0.006098) \t ('Й', 0.006847)\n",
      "26   (',', 0.006098) \t ('Ю', 0.006847)\n",
      "27   ('.', 0.004573) \t ('Б', 0.006645)\n",
      "28   ('b', 0.004573) \t ('Ц', 0.005034)\n",
      "29   ('9', 0.003049) \t ('Ш', 0.004229)\n",
      "30   ('-', 0.001524) \t ('Щ', 0.003625)\n",
      "31   ('Ф', 0.001524) \t ('Э', 0.002416)\n"
     ]
    }
   ],
   "source": [
    "frequency_new_dict = dict(sorted(frequency_new_dict.items(), key=lambda item: item[1], reverse=True))\n",
    "frequency_dict = dict(sorted(frequency_dict.items(), key=lambda item: item[1], reverse=True))\n",
    "frequency_dict = tuple(frequency_dict.items())\n",
    "frequency_new_dict = tuple(frequency_new_dict.items())\n",
    "for i in range (32):\n",
    "    print(i, ' ', frequency_new_dict[i], '\\t', frequency_dict[i])"
   ]
  },
  {
   "attachments": {},
   "cell_type": "markdown",
   "metadata": {},
   "source": [
    "### Исходный текст"
   ]
  },
  {
   "attachments": {},
   "cell_type": "markdown",
   "metadata": {},
   "source": [
    "r2Я Ь9К>>К2ЙЬБt ЬrДЫt12<Д>>tr82tМ<КЫ1ХО>12>t<rЬЧ82ЯК КБrtАД- ХО>12ЯЬ2ЙЬБЬrЬ<02Я Ь>О ДЫ>Оr02ЬЕК>ЯКatrД12r2Е0Б0cК<2Ф..КЙОtrЫЬК2ЯЬ2r К<КЫt2БКЙЬБt ЬrДЫtК2>ЛДОЬАЬ2ОКЙ>ОД2ЫЬ2r<К>ОК2>2tМ<КЫКЫtК<2 Д>ЯЬЧЬЛКЫt12ЬО КМЙЬr2>ЬЬОrКО>Оr0Хct32>t<rЬЧД<2r2ЙЬБЬrЬ<2Я Ь>О ДЫ>ОrК2tМ<КЫ1КО>12ОДЙЛК2t2Я КБ>ОДrЧКЫt12>ЛДО832>t<rЬЧЬr2ОЬ2К>О,2r2ЫДbt32ОК <tЫД32bt. ЬЕЬМЫДaКЫt1?2ЫДЯ t<К 2ЯК КБrtЫ0r2>t<rЬЧ2r2tМ2ЙЬЫ9Д2ЙЬБЬrЬАЬ2Я Ь>О ДЫ>ОrД2r2ЫДaДЧЬ2ЙЬБt 0ХcКК2МЫДaКЫtК2<ЬЛКО2r8АЧ1БКО,2ЫК2ЙДЙ2МДЯЧДЫt ЬrДЫЫЬК2tМЫДaДЧ,ЫЬ2Д2ЯЬБ 0АЬ<02>ЬЬОrКО>ОrКЫЫЬ2<КЫ1ХО>12t2ЕtО82ЙЬБt 0ХctК2ЫДbК2 КМ0Ч,Оt 0ХcКК2МЫДaКЫtК2rБЬЕДrЬЙ2ДБДЯОtrЫЬ<2ДЧАЬ tО<К2r>К2<КЫ1КО>12БtЫД<taК>Йt2ЯЬ>ЧК2tМ<КЫКЫt12ЙДЛБЬАЬ2>t<r ЬЧД"
   ]
  },
  {
   "attachments": {},
   "cell_type": "markdown",
   "metadata": {},
   "source": [
    "### Расшифровка текста (это было весело...)"
   ]
  },
  {
   "cell_type": "code",
   "execution_count": 97,
   "metadata": {},
   "outputs": [
    {
     "name": "stdout",
     "output_type": "stream",
     "text": [
      "1) ' ' = р\n",
      "2) 2 = ' '\n",
      "3) > = с\n",
      "4) t = и\n",
      "5) ф = э\n",
      "6) . = ф\n",
      "7) А = г\n",
      "8) д = а\n",
      "9) б = д\n",
      "10) е = б\n",
      "11) к = е\n",
      "12) й = к\n",
      "13) о = т\n",
      "14) r = в\n",
      "15) ы = н\n",
      "16) ь = о\n",
      "17) х = ю\n",
      "18) з = х\n",
      "19) м = з\n",
      "20) < = м\n",
      "21) я = п\n",
      "22) 9 = ц\n",
      "23) 1 = я\n",
      "24) 8 = ы\n",
      "25) 0 = у\n",
      "26) л = ж\n",
      "27) ч = л\n",
      "28) a = ч\n",
      "29) c = щ\n",
      "30) , = ь\n",
      "31) b = ш\n",
      "В ПРОЦЕССЕ КОДИРОВАНИЯ МАССИВЫ ИЗМЕНЯЮТСЯ СИМВОЛЫ ПЕРЕДВИГА-ЮТСЯ ПО КОДОВОМУ ПРОСТРАНСТВУ ОБЕСПЕЧИВАЯ В БУДУЩЕМ ЭФФЕКТИВНОЕ ПО ВРЕМЕНИ ДЕКОДИРОВАНИЕ СЖАТОГО ТЕКСТА НО ВМЕСТЕ С ИЗМЕНЕНИЕМ РАСПОЛОЖЕНИЯ ОТРЕЗКОВ СООТВЕТСТВУЮЩИХ СИМВОЛАМ В КОДОВОМ ПРОСТРАНСТВЕ ИЗМЕНЯЕТСЯ ТАКЖЕ И ПРЕДСТАВЛЕНИЯ СЖАТЫХ СИМВОЛОВ ТО ЕСТЬ В НАШИХ ТЕРМИНАХ ШИФРОБОЗНАЧЕНИЯ? НАПРИМЕР ПЕРЕДВИНУВ СИМВОЛ В ИЗ КОНЦА КОДОВОГО ПРОСТРАНСТВА В НАЧАЛО КОДИРУЮЩЕЕ ЗНАЧЕНИЕ МОЖЕТ ВЫГЛЯДЕТЬ НЕ КАК ЗАПЛАНИРОВАННОЕ ИЗНАЧАЛЬНО А ПОДРУГОМУ СООТВЕТСТВЕННО МЕНЯЮТСЯ И БИТЫ КОДИРУЮЩИЕ НАШЕ РЕЗУЛЬТИРУЮЩЕЕ ЗНАЧЕНИЕ ВДОБАВОК АДАПТИВНОМ АЛГОРИТМЕ ВСЕ МЕНЯЕТСЯ ДИНАМИЧЕСКИ ПОСЛЕ ИЗМЕНЕНИЯ КАЖДОГО СИМВОЛА\n"
     ]
    }
   ],
   "source": [
    "new_text = text\n",
    "print('1) \\' \\' = р')\n",
    "new_text = new_text.replace(frequency_new_dict[9][0], frequency_dict[8][0])\n",
    "print('2) 2 = \\' \\'')\n",
    "new_text = new_text.replace(frequency_new_dict[0][0], frequency_dict[0][0])\n",
    "print('3) > = с')\n",
    "new_text = new_text.replace(frequency_new_dict[7][0], frequency_dict[7][0])\n",
    "print('4) t = и')\n",
    "new_text = new_text.replace(frequency_new_dict[3][0], frequency_dict[2][0])\n",
    "print('5) ф = э')\n",
    "new_text = new_text.replace(frequency_new_dict[31][0], frequency_dict[31][0])\n",
    "print('6) . = ф')\n",
    "new_text = new_text.replace(frequency_new_dict[27][0], frequency_dict[24][0])\n",
    "print('7) А = г')\n",
    "new_text = new_text.replace(frequency_new_dict[19][0], frequency_dict[22][0])\n",
    "print('8) д = а')\n",
    "new_text = new_text.replace(frequency_new_dict[6][0], frequency_dict[4][0])\n",
    "print('9) б = д')\n",
    "new_text = new_text.replace(frequency_new_dict[11][0], frequency_dict[12][0])\n",
    "print('10) е = б')\n",
    "new_text = new_text.replace(frequency_new_dict[23][0], frequency_dict[27][0])\n",
    "print('11) к = е')\n",
    "new_text = new_text.replace(frequency_new_dict[1][0], frequency_dict[3][0])\n",
    "print('12) й = к')\n",
    "new_text = new_text.replace(frequency_new_dict[12][0], frequency_dict[14][0])\n",
    "print('13) о = т')\n",
    "new_text = new_text.replace(frequency_new_dict[8][0], frequency_dict[6][0])\n",
    "print('14) r = в')\n",
    "new_text = new_text.replace(frequency_new_dict[5][0], frequency_dict[9][0])\n",
    "print('15) ы = н')\n",
    "new_text = new_text.replace(frequency_new_dict[4][0], frequency_dict[5][0])\n",
    "print('16) ь = о')\n",
    "new_text = new_text.replace(frequency_new_dict[2][0], frequency_dict[1][0])\n",
    "print('17) х = ю')\n",
    "new_text = new_text.replace(frequency_new_dict[18][0], frequency_dict[26][0])\n",
    "print('18) з = х')\n",
    "new_text = new_text.replace(frequency_new_dict[25][0], frequency_dict[23][0])\n",
    "print('19) м = з')\n",
    "new_text = new_text.replace(frequency_new_dict[16][0], frequency_dict[16][0])\n",
    "print('20) < = м')\n",
    "new_text = new_text.replace(frequency_new_dict[10][0], frequency_dict[10][0])\n",
    "print('21) я = п')\n",
    "new_text = new_text.replace(frequency_new_dict[13][0], frequency_dict[15][0])\n",
    "print('22) 9 = ц')\n",
    "new_text = new_text.replace(frequency_new_dict[29][0], frequency_dict[28][0])\n",
    "print('23) 1 = я')\n",
    "new_text = new_text.replace(frequency_new_dict[14][0], frequency_dict[13][0])\n",
    "print('24) 8 = ы')\n",
    "new_text = new_text.replace(frequency_new_dict[22][0], frequency_dict[17][0])\n",
    "print('25) 0 = у')\n",
    "new_text = new_text.replace(frequency_new_dict[17][0], frequency_dict[19][0])\n",
    "print('26) л = ж')\n",
    "new_text = new_text.replace(frequency_new_dict[21][0], frequency_dict[21][0])\n",
    "print('27) ч = л')\n",
    "new_text = new_text.replace(frequency_new_dict[15][0], frequency_dict[11][0])\n",
    "print('28) a = ч')\n",
    "new_text = new_text.replace(frequency_new_dict[20][0], frequency_dict[20][0])\n",
    "print('29) c = щ')\n",
    "new_text = new_text.replace(frequency_new_dict[24][0], frequency_dict[30][0])\n",
    "print('30) , = ь')\n",
    "new_text = new_text.replace(frequency_new_dict[26][0], frequency_dict[18][0])\n",
    "print('31) b = ш')\n",
    "new_text = new_text.replace(frequency_new_dict[28][0], frequency_dict[29][0])\n",
    "\n",
    "print(new_text)"
   ]
  },
  {
   "attachments": {},
   "cell_type": "markdown",
   "metadata": {},
   "source": [
    "### Расшифрованный текст\n"
   ]
  },
  {
   "attachments": {},
   "cell_type": "markdown",
   "metadata": {},
   "source": [
    "В ПРОЦЕССЕ КОДИРОВАНИЯ МАССИВЫ ИЗМЕНЯЮТСЯ СИМВОЛЫ ПЕРЕДВИГА-ЮТСЯ ПО КОДОВОМУ ПРОСТРАНСТВУ ОБЕСПЕЧИВАЯ В БУДУЩЕМ ЭФФЕКТИВНОЕ ПО ВРЕМЕНИ ДЕКОДИРОВАНИЕ СЖАТОГО ТЕКСТА НО ВМЕСТЕ С ИЗМЕНЕНИЕМ РАСПОЛОЖЕНИЯ ОТРЕЗКОВ СООТВЕТСТВУЮЩИХ СИМВОЛАМ В КОДОВОМ ПРОСТРАНСТВЕ ИЗМЕНЯЕТСЯ ТАКЖЕ И ПРЕДСТАВЛЕНИЯ СЖАТЫХ СИМВОЛОВ ТО ЕСТЬ В НАШИХ ТЕРМИНАХ ШИФРОБОЗНАЧЕНИЯ? НАПРИМЕР ПЕРЕДВИНУВ СИМВОЛ В ИЗ КОНЦА КОДОВОГО ПРОСТРАНСТВА В НАЧАЛО КОДИРУЮЩЕЕ ЗНАЧЕНИЕ МОЖЕТ ВЫГЛЯДЕТЬ НЕ КАК ЗАПЛАНИРОВАННОЕ ИЗНАЧАЛЬНО А ПОДРУГОМУ СООТВЕТСТВЕННО МЕНЯЮТСЯ И БИТЫ КОДИРУЮЩИЕ НАШЕ РЕЗУЛЬТИРУЮЩЕЕ ЗНАЧЕНИЕ ВДОБАВОК АДАПТИВНОМ АЛГОРИТМЕ ВСЕ МЕНЯЕТСЯ ДИНАМИЧЕСКИ ПОСЛЕ ИЗМЕНЕНИЯ КАЖДОГО СИМВОЛА"
   ]
  },
  {
   "attachments": {},
   "cell_type": "markdown",
   "metadata": {},
   "source": [
    "### Сохранение расшифрованного текста в файл"
   ]
  },
  {
   "cell_type": "code",
   "execution_count": 98,
   "metadata": {},
   "outputs": [],
   "source": [
    "file = open(\"example_text_2.txt\", \"w+\",encoding='utf-8' )\n",
    "file.write(new_text)\n",
    "file.close()"
   ]
  }
 ],
 "metadata": {
  "kernelspec": {
   "display_name": "Python 3",
   "language": "python",
   "name": "python3"
  },
  "language_info": {
   "codemirror_mode": {
    "name": "ipython",
    "version": 3
   },
   "file_extension": ".py",
   "mimetype": "text/x-python",
   "name": "python",
   "nbconvert_exporter": "python",
   "pygments_lexer": "ipython3",
   "version": "3.9.13"
  },
  "orig_nbformat": 4
 },
 "nbformat": 4,
 "nbformat_minor": 2
}
