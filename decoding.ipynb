{
 "cells": [
  {
   "cell_type": "code",
   "execution_count": 41,
   "metadata": {},
   "outputs": [],
   "source": [
    "def read_file(file_name: str) -> str:\n",
    "    \"\"\"функция чтения исходного текста из файла\"\"\"   \n",
    "    text = \"\"     \n",
    "    with open(file_name) as file:\n",
    "          text = file.read()\n",
    "          \n",
    "    \n",
    "    return text"
   ]
  },
  {
   "cell_type": "code",
   "execution_count": 42,
   "metadata": {},
   "outputs": [],
   "source": [
    "def read_frequency_file(file_name: str) -> dict:\n",
    "    \"\"\"функция чтения частотного текста из файла\"\"\" \n",
    "    frequency_dict = {}\n",
    "    with open(file_name) as file:\n",
    "        for item in file:\n",
    "            tmp_str = item.split(\"=\")\n",
    "            key = tmp_str[0][0]\n",
    "            value = round(float(tmp_str[1][1:9]), 6)\n",
    "            frequency_dict.update({key:value})\n",
    "    return(frequency_dict)\n"
   ]
  },
  {
   "cell_type": "code",
   "execution_count": 43,
   "metadata": {},
   "outputs": [
    {
     "ename": "TypeError",
     "evalue": "read_frequency_file() got an unexpected keyword argument 'encoding'",
     "output_type": "error",
     "traceback": [
      "\u001b[1;31m---------------------------------------------------------------------------\u001b[0m",
      "\u001b[1;31mTypeError\u001b[0m                                 Traceback (most recent call last)",
      "Cell \u001b[1;32mIn[43], line 1\u001b[0m\n\u001b[1;32m----> 1\u001b[0m frequency_dict \u001b[39m=\u001b[39m read_frequency_file(\u001b[39m\"\u001b[39;49m\u001b[39mfrequency.txt\u001b[39;49m\u001b[39m\"\u001b[39;49m,  encoding\u001b[39m=\u001b[39;49m\u001b[39m'\u001b[39;49m\u001b[39mutf-8\u001b[39;49m\u001b[39m'\u001b[39;49m)\n",
      "\u001b[1;31mTypeError\u001b[0m: read_frequency_file() got an unexpected keyword argument 'encoding'"
     ]
    }
   ],
   "source": [
    "frequency_dict = read_frequency_file(\"frequency.txt\" )\n"
   ]
  },
  {
   "cell_type": "code",
   "execution_count": 45,
   "metadata": {},
   "outputs": [
    {
     "name": "stdout",
     "output_type": "stream",
     "text": [
      "r2Я Ь9К>>К2ЙЬБt ЬrДЫt12<Д>>tr82tМ<КЫ1ХО>12>t<rЬЧ82ЯК КБrtАД-ХО>12ЯЬ2ЙЬБЬrЬ<02Я Ь>О ДЫ>Оr02ЬЕК>ЯКatrД12r2Е0Б0cК<2Ф..КЙОtrЫЬК2ЯЬ2r К<КЫt2БКЙЬБt ЬrДЫtК2>ЛДОЬАЬ2ОКЙ>ОД2ЫЬ2r<К>ОК2>2tМ<КЫКЫtК<2 Д>ЯЬЧЬЛКЫt12ЬО КМЙЬr2>ЬЬОrКО>Оr0Хct32>t<rЬЧД<2r2ЙЬБЬrЬ<2Я Ь>О ДЫ>ОrК2tМ<КЫ1КО>12ОДЙЛК2t2Я КБ>ОДrЧКЫt12>ЛДО832>t<rЬЧЬr2ОЬ2К>О,2r2ЫДbt32ОК <tЫД32bt. ЬЕЬМЫДaКЫt1?2ЫДЯ t<К 2ЯК КБrtЫ0r2>t<rЬЧ2r2tМ2ЙЬЫ9Д2ЙЬБЬrЬАЬ2Я Ь>О ДЫ>ОrД2r2ЫДaДЧЬ2ЙЬБt 0ХcКК2МЫДaКЫtК2<ЬЛКО2r8АЧ1БКО,2ЫК2ЙДЙ2МДЯЧДЫt ЬrДЫЫЬК2tМЫДaДЧ,ЫЬ2Д2ЯЬБ 0АЬ<02>ЬЬОrКО>ОrКЫЫЬ2<КЫ1ХО>12t2ЕtО82ЙЬБt 0ХctК2ЫДbК2 КМ0Ч,Оt 0ХcКК2МЫДaКЫtК2rБЬЕДrЬЙ2ДБДЯОtrЫЬ<2ДЧАЬ tО<К2r>К2<КЫ1КО>12БtЫД<taК>Йt2ЯЬ>ЧК2tМ<КЫКЫt12ЙДЛБЬАЬ2>t<rЬЧД\n"
     ]
    }
   ],
   "source": [
    "with open('text_2.txt',  encoding='utf-8') as file:\n",
    "    text = file.read()\n",
    "print(text)      \n"
   ]
  },
  {
   "cell_type": "code",
   "execution_count": 17,
   "metadata": {},
   "outputs": [],
   "source": [
    "def frequency_new_text(text: str) -> dict:\n",
    "    frequency_new_dict ={}\n",
    "    len_text = len(text)\n",
    "    for i in text:\n",
    "        count = 0.00000\n",
    "        if i not in frequency_new_dict.keys():\n",
    "            for j in range (len_text):                \n",
    "                if i == text[j]:\n",
    "                    count+=1\n",
    "            frequency_new_dict.update({i: round(float(count/len_text), 6)})\n",
    "\n",
    "\n",
    "    return frequency_new_dict        \n"
   ]
  },
  {
   "cell_type": "code",
   "execution_count": 18,
   "metadata": {},
   "outputs": [],
   "source": [
    "frequency_new_dict = frequency_new_text(text)"
   ]
  },
  {
   "cell_type": "code",
   "execution_count": 19,
   "metadata": {},
   "outputs": [
    {
     "name": "stdout",
     "output_type": "stream",
     "text": [
      "0   ('2', 0.120061) \t\t (' ', 0.128675)\n",
      "1   ('К', 0.092705) \t\t ('О', 0.096456)\n",
      "2   ('Ь', 0.091185) \t\t ('И', 0.075312)\n",
      "3   ('t', 0.069909) \t\t ('Е', 0.072292)\n",
      "4   ('Ы', 0.06231) \t\t ('А', 0.064841)\n",
      "5   ('r', 0.06079) \t\t ('Н', 0.06182)\n",
      "6   ('Д', 0.06079) \t\t ('Т', 0.061619)\n",
      "7   ('>', 0.054711) \t\t ('С', 0.051953)\n",
      "8   ('О', 0.053191) \t\t ('Р', 0.040677)\n",
      "9   (' ', 0.042553) \t\t ('В', 0.039267)\n",
      "10   ('<', 0.039514) \t\t ('М', 0.029803)\n",
      "11   ('Б', 0.027356) \t\t ('Л', 0.0294)\n",
      "12   ('Й', 0.025836) \t\t ('Д', 0.026983)\n",
      "13   ('Я', 0.024316) \t\t ('Я', 0.026379)\n",
      "14   ('1', 0.024316) \t\t ('К', 0.025977)\n",
      "15   ('Ч', 0.021277) \t\t ('П', 0.024768)\n",
      "16   ('М', 0.018237) \t\t ('З', 0.015908)\n",
      "17   ('0', 0.018237) \t\t ('Ы', 0.015707)\n",
      "18   ('Х', 0.010638) \t\t ('Ь', 0.015103)\n",
      "19   ('А', 0.010638) \t\t ('У', 0.01329)\n",
      "20   ('a', 0.010638) \t\t ('Ч', 0.011679)\n",
      "21   ('Л', 0.009119) \t\t ('Ж', 0.010673)\n",
      "22   ('8', 0.007599) \t\t ('Г', 0.009867)\n",
      "23   ('Е', 0.007599) \t\t ('Х', 0.008659)\n",
      "24   ('c', 0.007599) \t\t ('Ф', 0.007249)\n",
      "25   ('3', 0.006079) \t\t ('Й', 0.006847)\n",
      "26   (',', 0.006079) \t\t ('Ю', 0.006847)\n",
      "27   ('.', 0.004559) \t\t ('Б', 0.006645)\n",
      "28   ('b', 0.004559) \t\t ('Ц', 0.005034)\n",
      "29   ('9', 0.00304) \t\t ('Ш', 0.004229)\n",
      "30   ('-', 0.00152) \t\t ('Щ', 0.003625)\n",
      "31   ('Ф', 0.00152) \t\t ('Э', 0.002416)\n"
     ]
    }
   ],
   "source": [
    "frequency_new_dict = dict(sorted(frequency_new_dict.items(), key=lambda item: item[1], reverse=True))\n",
    "frequency_dict = dict(sorted(frequency_dict.items(), key=lambda item: item[1], reverse=True))\n",
    "frequency_dict = tuple(frequency_dict.items())\n",
    "frequency_new_dict = tuple(frequency_new_dict.items())\n",
    "for i in range (32):\n",
    "    print(i, ' ', frequency_new_dict[i], '\\t\\t', frequency_dict[i])"
   ]
  },
  {
   "attachments": {},
   "cell_type": "markdown",
   "metadata": {},
   "source": [
    "r2Я Ь9К>>К2ЙЬБt ЬrДЫt12<Д>>tr82tМ<КЫ1ХО>12>t<rЬЧ82ЯК КБrtАД- ХО>12ЯЬ2ЙЬБЬrЬ<02Я Ь>О ДЫ>Оr02ЬЕК>ЯКatrД12r2Е0Б0cК<2Ф..КЙОtrЫЬК2ЯЬ2r К<КЫt2БКЙЬБt ЬrДЫtК2>ЛДОЬАЬ2ОКЙ>ОД2ЫЬ2r<К>ОК2>2tМ<КЫКЫtК<2 Д>ЯЬЧЬЛКЫt12ЬО КМЙЬr2>ЬЬОrКО>Оr0Хct32>t<rЬЧД<2r2ЙЬБЬrЬ<2Я Ь>О ДЫ>ОrК2tМ<КЫ1КО>12ОДЙЛК2t2Я КБ>ОДrЧКЫt12>ЛДО832>t<rЬЧЬr2ОЬ2К>О,2r2ЫДbt32ОК <tЫД32bt. ЬЕЬМЫДaКЫt1?2ЫДЯ t<К 2ЯК КБrtЫ0r2>t<rЬЧ2r2tМ2ЙЬЫ9Д2ЙЬБЬrЬАЬ2Я Ь>О ДЫ>ОrД2r2ЫДaДЧЬ2ЙЬБt 0ХcКК2МЫДaКЫtК2<ЬЛКО2r8АЧ1БКО,2ЫК2ЙДЙ2МДЯЧДЫt ЬrДЫЫЬК2tМЫДaДЧ,ЫЬ2Д2ЯЬБ 0АЬ<02>ЬЬОrКО>ОrКЫЫЬ2<КЫ1ХО>12t2ЕtО82ЙЬБt 0ХctК2ЫДbК2 КМ0Ч,Оt 0ХcКК2МЫДaКЫtК2rБЬЕДrЬЙ2ДБДЯОtrЫЬ<2ДЧАЬ tО<К2r>К2<КЫ1КО>12БtЫД<taК>Йt2ЯЬ>ЧК2tМ<КЫКЫt12ЙДЛБЬАЬ2>t<r ЬЧД"
   ]
  },
  {
   "cell_type": "code",
   "execution_count": 51,
   "metadata": {},
   "outputs": [
    {
     "name": "stdout",
     "output_type": "stream",
     "text": [
      "1) ' ' = В\n",
      "2) 2 = ' '\n",
      "3) r = c\n",
      "3) м = з\n",
      "3) ь = а\n",
      "3) о = н\n",
      "3) t = и\n",
      "3) 1 = я\n",
      "3) к = е\n",
      "С ЯТА9Е>>Е ЙАБИТАСДЫИЯ <Д>>ИС8 ИЗ<ЕЫЯХН>Я >И<САЧ8 ЯЕТЕБСИАД-ХН>Я ЯА ЙАБАСА<0 ЯТА>НТДЫ>НС0 АЕЕ>ЯЕaИСДЯ С Е0Б0cЕ< Ф..ЕЙНИСЫАЕ ЯА СТЕ<ЕЫИ БЕЙАБИТАСДЫИЕ >ЛДНААА НЕЙ>НД ЫА С<Е>НЕ > ИЗ<ЕЫЕЫИЕ< ТД>ЯАЧАЛЕЫИЯ АНТЕЗЙАС >ААНСЕН>НС0ХcИ3 >И<САЧД< С ЙАБАСА< ЯТА>НТДЫ>НСЕ ИЗ<ЕЫЯЕН>Я НДЙЛЕ И ЯТЕБ>НДСЧЕЫИЯ >ЛДН83 >И<САЧАС НА Е>Н, С ЫДbИ3 НЕТ<ИЫД3 bИ.ТАЕАЗЫДaЕЫИЯ? ЫДЯТИ<ЕТ ЯЕТЕБСИЫ0С >И<САЧ С ИЗ ЙАЫ9Д ЙАБАСААА ЯТА>НТДЫ>НСД С ЫДaДЧА ЙАБИТ0ХcЕЕ ЗЫДaЕЫИЕ <АЛЕН С8АЧЯБЕН, ЫЕ ЙДЙ ЗДЯЧДЫИТАСДЫЫАЕ ИЗЫДaДЧ,ЫА Д ЯАБТ0АА<0 >ААНСЕН>НСЕЫЫА <ЕЫЯХН>Я И ЕИН8 ЙАБИТ0ХcИЕ ЫДbЕ ТЕЗ0Ч,НИТ0ХcЕЕ ЗЫДaЕЫИЕ СБАЕДСАЙ ДБДЯНИСЫА< ДЧААТИН<Е С>Е <ЕЫЯЕН>Я БИЫД<ИaЕ>ЙИ ЯА>ЧЕ ИЗ<ЕЫЕЫИЯ ЙДЛБААА >И<САЧД\n"
     ]
    }
   ],
   "source": [
    "new_text = text\n",
    "print('1) \\' \\' = В')\n",
    "new_text = new_text.replace(frequency_new_dict[9][0], frequency_dict[6][0])\n",
    "print('2) 2 = \\' \\'')\n",
    "new_text = new_text.replace(frequency_new_dict[0][0], frequency_dict[0][0])\n",
    "print('3) r = c')\n",
    "new_text = new_text.replace(frequency_new_dict[5][0], frequency_dict[7][0])\n",
    "print('3) м = з')\n",
    "new_text = new_text.replace(frequency_new_dict[16][0], frequency_dict[16][0])\n",
    "print('3) ь = а')\n",
    "new_text = new_text.replace(frequency_new_dict[2][0], frequency_dict[4][0])\n",
    "print('3) о = н')\n",
    "new_text = new_text.replace(frequency_new_dict[8][0], frequency_dict[5][0])\n",
    "print('3) t = и')\n",
    "new_text = new_text.replace(frequency_new_dict[3][0], frequency_dict[2][0])\n",
    "print('3) 1 = я')\n",
    "new_text = new_text.replace(frequency_new_dict[14][0], frequency_dict[13][0])\n",
    "print('3) к = е')\n",
    "new_text = new_text.replace(frequency_new_dict[1][0], frequency_dict[3][0])\n",
    "\n",
    "\n",
    "print(new_text)"
   ]
  },
  {
   "attachments": {},
   "cell_type": "markdown",
   "metadata": {},
   "source": [
    "С ЯТА9К>>К ЙАБИТАСДЫИ1 <Д>>ИС8 ИЗ<КЫ1ХН>1 >И<САЧ8 ЯКТКБСИАД-ТХН>1 ЯА ЙАБАСА<0 ЯТА>НТДЫ>НС0 АЕК>ЯКaИСД1 С Е0Б0cК< Ф..КЙНИСЫАК ЯА СТК<КЫИ БКЙАБИТАСДЫИК >ЛДНААА НКЙ>НД ЫА С<К>НК > ИЗ<КЫКЫИК< ТД>ЯАЧАЛКЫИ1 АНТКЗЙАС >ААНСКН>НС0ХcИ3 >И<САЧД< С ЙАБАСА< ЯТА>НТДЫ>НСК ИЗ<КЫ1КН>1 НДЙЛК И ЯТКБ>НДСЧКЫИ1 >ЛДН83 >И<САЧАС НА К>Н, С ЫДbИ3 НКТ<ИЫД3 bИ.ТАЕАЗЫДaКЫИ1? ЫДЯТИ<КТ ЯКТКБСИЫ0С >И<САЧ С ИЗ ЙАЫ9Д ЙАБАСААА ЯТА>НТДЫ>НСД С ЫДaДЧА ЙАБИТ0ХcКК ЗЫДaКЫИК <АЛКН С8АЧ1БКН, ЫК ЙДЙ ЗДЯЧДЫИТАСДЫЫАК ИЗЫДaДЧ,ЫА Д ЯАБТ0АА<0 >ААНСКН>НСКЫЫА <КЫ1ХН>1 И ЕИН8 ЙАБИТ0ХcИК ЫДbК ТКЗ0Ч,НИТ0ХcКК ЗЫДaКЫИК СБАЕДСАЙ ДБДЯНИСЫА< ДЧААТИН<К С>К <КЫ1КН>1 БИЫД<ИaК>ЙИ ЯА>ЧК ИЗ<КЫКЫИ1 ЙДЛБААА >И<СТАЧД"
   ]
  }
 ],
 "metadata": {
  "kernelspec": {
   "display_name": "Python 3",
   "language": "python",
   "name": "python3"
  },
  "language_info": {
   "codemirror_mode": {
    "name": "ipython",
    "version": 3
   },
   "file_extension": ".py",
   "mimetype": "text/x-python",
   "name": "python",
   "nbconvert_exporter": "python",
   "pygments_lexer": "ipython3",
   "version": "3.9.13"
  },
  "orig_nbformat": 4
 },
 "nbformat": 4,
 "nbformat_minor": 2
}
